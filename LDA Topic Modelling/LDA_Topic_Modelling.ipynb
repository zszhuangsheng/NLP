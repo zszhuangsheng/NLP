{
 "cells": [
  {
   "cell_type": "markdown",
   "metadata": {},
   "source": [
    "# Latent Dirichlet Allocation"
   ]
  },
  {
   "cell_type": "markdown",
   "metadata": {},
   "source": [
    "LDA is used to classify text in a document to a particular topic. It builds a topic per document model and words per topic model, modeled as Dirichlet distributions.\n",
    "* Each document is modeled as a multinomial distribution of topics and each topic is modeled as a multinomial distribution of words.\n",
    "\n",
    "* LDA assumes that the every chunk of text we feed into it will contain words that are somehow related. Therefore choosing the right corpus of data is crucial.\n",
    "\n",
    "* It also assumes documents are produced from a mixture of topics. Those topics then generate words based on their probability distribution.\n"
   ]
  },
  {
   "cell_type": "markdown",
   "metadata": {},
   "source": [
    "## Pipeline\n",
    "    Data Preprocess(Tokenize --> Stopwords Removing --> Lemmatize --> stem)\n",
    "\n",
    "                            |\n",
    "                Generate BOW and Tfidf\n",
    "                            \n",
    "                            |\n",
    "                   LDA on BOW and Tfidf\n",
    "                            \n",
    "                            |\n",
    "                  performance evaluation\n",
    "                        "
   ]
  },
  {
   "cell_type": "markdown",
   "metadata": {},
   "source": [
    "# Step 1: Load Dataset"
   ]
  },
  {
   "cell_type": "code",
   "execution_count": 1,
   "metadata": {},
   "outputs": [],
   "source": [
    "'''\n",
    "Load the dataset from the CSV and save it to 'data_text'\n",
    "'''\n",
    "import pandas as pd\n",
    "data = pd.read_csv('abcnews-date-text.csv', error_bad_lines=False);\n",
    "# We only need the Headlines text column from the data\n",
    "data_text = data[:300000][['headline_text']];\n",
    "data_text['index'] = data_text.index\n",
    "\n",
    "documents = data_text"
   ]
  },
  {
   "cell_type": "code",
   "execution_count": 2,
   "metadata": {},
   "outputs": [
    {
     "name": "stdout",
     "output_type": "stream",
     "text": [
      "300000\n",
      "                                       headline_text  index\n",
      "0  aba decides against community broadcasting lic...      0\n",
      "1     act fire witnesses must be aware of defamation      1\n",
      "2     a g calls for infrastructure protection summit      2\n",
      "3           air nz staff in aust strike for pay rise      3\n",
      "4      air nz strike to affect australian travellers      4\n"
     ]
    }
   ],
   "source": [
    "'''\n",
    "Get the total number of documents\n",
    "'''\n",
    "print(len(documents))\n",
    "print(documents[:5])"
   ]
  },
  {
   "cell_type": "markdown",
   "metadata": {},
   "source": [
    "# Step 2: Data Preprocessing"
   ]
  },
  {
   "cell_type": "markdown",
   "metadata": {},
   "source": [
    "We will perform the following steps:\n",
    "\n",
    "* Tokenization: Split the text into sentences and the sentences into words. Lowercase the words and remove punctuation.\n",
    "Eg. \"John went to school\"  --> [\"John\",\"went\",\"to\", \"school\"]\n",
    "\n",
    "* All stopwords are removed.\n",
    "\n",
    "* Words are lemmatized - words in third person are changed to first person and verbs in past and future tenses are changed into present. Eg. \"went\"  --> \"go\"\n",
    "\n",
    "* Words are stemmed - words are reduced to their root form. Eg. \"files\"  --> \"file\""
   ]
  },
  {
   "cell_type": "code",
   "execution_count": 4,
   "metadata": {},
   "outputs": [
    {
     "name": "stderr",
     "output_type": "stream",
     "text": [
      "[nltk_data] Downloading package wordnet to\n",
      "[nltk_data]     /Users/zhuangsheng/nltk_data...\n",
      "[nltk_data]   Package wordnet is already up-to-date!\n"
     ]
    },
    {
     "data": {
      "text/plain": [
       "True"
      ]
     },
     "execution_count": 4,
     "metadata": {},
     "output_type": "execute_result"
    }
   ],
   "source": [
    "'''\n",
    "Loading Gensim and nltk libraries\n",
    "'''\n",
    "# pip install gensim\n",
    "import gensim\n",
    "from gensim.utils import simple_preprocess\n",
    "from gensim.parsing.preprocessing import STOPWORDS\n",
    "from nltk.stem import WordNetLemmatizer, SnowballStemmer\n",
    "from nltk.stem.porter import *\n",
    "import numpy as np\n",
    "\n",
    "import nltk\n",
    "nltk.download('wordnet')"
   ]
  },
  {
   "cell_type": "markdown",
   "metadata": {},
   "source": [
    "### Lemmatizer Example\n",
    "\n",
    "* Before preprocessing our dataset, let's first look at an lemmatizing example. What would be the output if we lemmatized the word 'went':\n",
    "\n"
   ]
  },
  {
   "cell_type": "code",
   "execution_count": 5,
   "metadata": {},
   "outputs": [
    {
     "name": "stdout",
     "output_type": "stream",
     "text": [
      "go\n"
     ]
    }
   ],
   "source": [
    "print(WordNetLemmatizer().lemmatize(\"went\", pos = 'v'))  # past tense to present tense"
   ]
  },
  {
   "cell_type": "markdown",
   "metadata": {},
   "source": [
    "### Stemmer Example\n",
    "* Let's also look at a stemming example. Let's throw a number of words at the stemmer and see how it deals with each one:"
   ]
  },
  {
   "cell_type": "code",
   "execution_count": 7,
   "metadata": {},
   "outputs": [
    {
     "data": {
      "text/html": [
       "<div>\n",
       "<style scoped>\n",
       "    .dataframe tbody tr th:only-of-type {\n",
       "        vertical-align: middle;\n",
       "    }\n",
       "\n",
       "    .dataframe tbody tr th {\n",
       "        vertical-align: top;\n",
       "    }\n",
       "\n",
       "    .dataframe thead th {\n",
       "        text-align: right;\n",
       "    }\n",
       "</style>\n",
       "<table border=\"1\" class=\"dataframe\">\n",
       "  <thead>\n",
       "    <tr style=\"text-align: right;\">\n",
       "      <th></th>\n",
       "      <th>original word</th>\n",
       "      <th>stemmed</th>\n",
       "    </tr>\n",
       "  </thead>\n",
       "  <tbody>\n",
       "    <tr>\n",
       "      <th>0</th>\n",
       "      <td>caresses</td>\n",
       "      <td>caress</td>\n",
       "    </tr>\n",
       "    <tr>\n",
       "      <th>1</th>\n",
       "      <td>flies</td>\n",
       "      <td>fli</td>\n",
       "    </tr>\n",
       "    <tr>\n",
       "      <th>2</th>\n",
       "      <td>dies</td>\n",
       "      <td>die</td>\n",
       "    </tr>\n",
       "    <tr>\n",
       "      <th>3</th>\n",
       "      <td>mules</td>\n",
       "      <td>mule</td>\n",
       "    </tr>\n",
       "    <tr>\n",
       "      <th>4</th>\n",
       "      <td>denied</td>\n",
       "      <td>deni</td>\n",
       "    </tr>\n",
       "    <tr>\n",
       "      <th>5</th>\n",
       "      <td>died</td>\n",
       "      <td>die</td>\n",
       "    </tr>\n",
       "    <tr>\n",
       "      <th>6</th>\n",
       "      <td>agreed</td>\n",
       "      <td>agre</td>\n",
       "    </tr>\n",
       "    <tr>\n",
       "      <th>7</th>\n",
       "      <td>owned</td>\n",
       "      <td>own</td>\n",
       "    </tr>\n",
       "    <tr>\n",
       "      <th>8</th>\n",
       "      <td>humbled</td>\n",
       "      <td>humbl</td>\n",
       "    </tr>\n",
       "    <tr>\n",
       "      <th>9</th>\n",
       "      <td>sized</td>\n",
       "      <td>size</td>\n",
       "    </tr>\n",
       "    <tr>\n",
       "      <th>10</th>\n",
       "      <td>meeting</td>\n",
       "      <td>meet</td>\n",
       "    </tr>\n",
       "    <tr>\n",
       "      <th>11</th>\n",
       "      <td>stating</td>\n",
       "      <td>state</td>\n",
       "    </tr>\n",
       "    <tr>\n",
       "      <th>12</th>\n",
       "      <td>siezing</td>\n",
       "      <td>siez</td>\n",
       "    </tr>\n",
       "    <tr>\n",
       "      <th>13</th>\n",
       "      <td>itemization</td>\n",
       "      <td>item</td>\n",
       "    </tr>\n",
       "    <tr>\n",
       "      <th>14</th>\n",
       "      <td>sensational</td>\n",
       "      <td>sensat</td>\n",
       "    </tr>\n",
       "    <tr>\n",
       "      <th>15</th>\n",
       "      <td>traditional</td>\n",
       "      <td>tradit</td>\n",
       "    </tr>\n",
       "    <tr>\n",
       "      <th>16</th>\n",
       "      <td>reference</td>\n",
       "      <td>refer</td>\n",
       "    </tr>\n",
       "    <tr>\n",
       "      <th>17</th>\n",
       "      <td>colonizer</td>\n",
       "      <td>colon</td>\n",
       "    </tr>\n",
       "    <tr>\n",
       "      <th>18</th>\n",
       "      <td>plotted</td>\n",
       "      <td>plot</td>\n",
       "    </tr>\n",
       "  </tbody>\n",
       "</table>\n",
       "</div>"
      ],
      "text/plain": [
       "   original word stemmed\n",
       "0       caresses  caress\n",
       "1          flies     fli\n",
       "2           dies     die\n",
       "3          mules    mule\n",
       "4         denied    deni\n",
       "5           died     die\n",
       "6         agreed    agre\n",
       "7          owned     own\n",
       "8        humbled   humbl\n",
       "9          sized    size\n",
       "10       meeting    meet\n",
       "11       stating   state\n",
       "12       siezing    siez\n",
       "13   itemization    item\n",
       "14   sensational  sensat\n",
       "15   traditional  tradit\n",
       "16     reference   refer\n",
       "17     colonizer   colon\n",
       "18       plotted    plot"
      ]
     },
     "execution_count": 7,
     "metadata": {},
     "output_type": "execute_result"
    }
   ],
   "source": [
    "stemmer = SnowballStemmer(\"english\")\n",
    "original_words = ['caresses', 'flies', 'dies', 'mules', 'denied','died', 'agreed', 'owned', \n",
    "           'humbled', 'sized','meeting', 'stating', 'siezing', 'itemization','sensational', \n",
    "           'traditional', 'reference', 'colonizer','plotted']\n",
    "\n",
    "singles = [stemmer.stem(plural) for plural in original_words]\n",
    "\n",
    "pd.DataFrame(data = {'original word':original_words,'stemmed':singles})"
   ]
  },
  {
   "cell_type": "code",
   "execution_count": 10,
   "metadata": {},
   "outputs": [
    {
     "data": {
      "text/plain": [
       "['john', 'went', 'to', 'office']"
      ]
     },
     "execution_count": 10,
     "metadata": {},
     "output_type": "execute_result"
    }
   ],
   "source": [
    "gensim.utils.simple_preprocess(\"John went to office.\")"
   ]
  },
  {
   "cell_type": "code",
   "execution_count": 16,
   "metadata": {},
   "outputs": [],
   "source": [
    "'''\n",
    "The function to perform the pre processing steps on the entire dataset\n",
    "'''\n",
    "stemmer = SnowballStemmer(\"english\")\n",
    "def lemmatize_stemming(text):\n",
    "    return stemmer.stem(WordNetLemmatizer().lemmatize(text, pos = 'v'))\n",
    "\n",
    "def preprocess(text):\n",
    "    result = []\n",
    "    # gensim.utils.simple_preprocess(text) --> tokenize\n",
    "    for token in gensim.utils.simple_preprocess(text):\n",
    "        # remove stopwords and words like \"a\",\"an\",\"are\"\n",
    "        if token not in gensim.parsing.preprocessing.STOPWORDS and len(token) > 3:\n",
    "            result.append(lemmatize_stemming(token))\n",
    "    return result"
   ]
  },
  {
   "cell_type": "code",
   "execution_count": 17,
   "metadata": {},
   "outputs": [
    {
     "name": "stdout",
     "output_type": "stream",
     "text": [
      "Original document: \n",
      "['rain', 'helps', 'dampen', 'bushfires']\n",
      "\n",
      "\n",
      "Tokenized and Lemmatized document:\n",
      "['rain', 'help', 'dampen', 'bushfir']\n"
     ]
    }
   ],
   "source": [
    "\n",
    "'''\n",
    "Preview a document after preprocessing\n",
    "'''\n",
    "# use one record as an example\n",
    "document_num = 4310\n",
    "doc_sample = documents[documents[\"index\"] == document_num].values[0][0]\n",
    "\n",
    "print(\"Original document: \")\n",
    "words = []\n",
    "for word in doc_sample.split(\" \"):\n",
    "    words.append(word)\n",
    "    \n",
    "print(words)\n",
    "print(\"\\n\\nTokenized and Lemmatized document:\")\n",
    "print(preprocess(doc_sample))"
   ]
  },
  {
   "cell_type": "code",
   "execution_count": 20,
   "metadata": {},
   "outputs": [
    {
     "name": "stdout",
     "output_type": "stream",
     "text": [
      "before processing:\n",
      "\n",
      "\n",
      "                                       headline_text  index\n",
      "0  aba decides against community broadcasting lic...      0\n",
      "1     act fire witnesses must be aware of defamation      1\n",
      "2     a g calls for infrastructure protection summit      2\n",
      "3           air nz staff in aust strike for pay rise      3\n",
      "4      air nz strike to affect australian travellers      4\n"
     ]
    }
   ],
   "source": [
    "# Comapre\n",
    "# Before processing the dataframe\n",
    "print(\"before processing:\")\n",
    "print(\"\\n\")\n",
    "print(documents.head())"
   ]
  },
  {
   "cell_type": "code",
   "execution_count": 21,
   "metadata": {},
   "outputs": [
    {
     "name": "stdout",
     "output_type": "stream",
     "text": [
      "after processing:\n",
      "\n",
      "\n",
      "0     [decid, communiti, broadcast, licenc]\n",
      "1                        [wit, awar, defam]\n",
      "2    [call, infrastructur, protect, summit]\n",
      "3               [staff, aust, strike, rise]\n",
      "4      [strike, affect, australian, travel]\n",
      "5        [ambiti, olsson, win, tripl, jump]\n",
      "Name: headline_text, dtype: object\n"
     ]
    }
   ],
   "source": [
    "print(\"after processing:\")\n",
    "print(\"\\n\")\n",
    "processed_docs = documents[\"headline_text\"].map(preprocess)\n",
    "print(processed_docs[:6])"
   ]
  },
  {
   "cell_type": "markdown",
   "metadata": {},
   "source": [
    "# Step 3. Prepare data"
   ]
  },
  {
   "cell_type": "markdown",
   "metadata": {},
   "source": [
    "## 3.1 Bag of Words\n",
    "## 3.2 TF-IDF"
   ]
  },
  {
   "cell_type": "markdown",
   "metadata": {},
   "source": [
    "## 3.1 Bag of Words"
   ]
  },
  {
   "cell_type": "markdown",
   "metadata": {},
   "source": [
    "Now let's create a dictionary from 'processed_docs' containing the number of times a word appears in the training set. To do that, let's pass processed_docs to gensim.corpora.Dictionary() and call it 'dictionary'."
   ]
  },
  {
   "cell_type": "code",
   "execution_count": 24,
   "metadata": {},
   "outputs": [],
   "source": [
    "'''\n",
    "Create a dictionary from 'processed_docs' containing the number of times a word appears \n",
    "in the training set using gensim.corpora.Dictionary and call it 'dictionary'\n",
    "'''\n",
    "\n",
    "dictionary = gensim.corpora.Dictionary(processed_docs)"
   ]
  },
  {
   "cell_type": "code",
   "execution_count": 25,
   "metadata": {},
   "outputs": [
    {
     "name": "stdout",
     "output_type": "stream",
     "text": [
      "12975 sari\n",
      "11708 pullout\n",
      "17469 mythsagain\n",
      "18488 seashift\n",
      "18191 calvin\n",
      "8124 saga\n",
      "23135 damon\n",
      "19144 turndown\n",
      "2524 hodg\n",
      "12754 grapegrow\n",
      "2624 room\n"
     ]
    }
   ],
   "source": [
    "'''\n",
    "Checking dictionary created\n",
    "'''\n",
    "count = 0\n",
    "for k, v in dictionary.iteritems():\n",
    "    print(k, v)\n",
    "    count += 1\n",
    "    if count > 10:\n",
    "        break"
   ]
  },
  {
   "cell_type": "markdown",
   "metadata": {},
   "source": [
    "#### Gensim filter_extremes\n",
    "\n",
    "* filter_extremes(no_below=5, no_above=0.5, keep_n=100000)\n",
    "\n",
    "Filter out tokens that appear in\n",
    "\n",
    "* less than no_below documents (absolute number) or\n",
    "* more than no_above documents (fraction of total corpus size, not absolute number).\n",
    "* after (1) and (2), keep only the first keep_n most frequent tokens (or keep all if None)."
   ]
  },
  {
   "cell_type": "code",
   "execution_count": 26,
   "metadata": {},
   "outputs": [],
   "source": [
    "'''\n",
    "OPTIONAL STEP\n",
    "Remove very rare and very common words:\n",
    "\n",
    "- words appearing less than 15 times\n",
    "- words appearing in more than 10% of all documents\n",
    "'''\n",
    "\n",
    "dictionary.filter_extremes(no_below = 15, no_above = 0.1, keep_n = 100000)"
   ]
  },
  {
   "cell_type": "markdown",
   "metadata": {},
   "source": [
    "#### Gensim doc2bow\n",
    "\n",
    "doc2bow(document)\n",
    "\n",
    "Convert document (a list of words) into the bag-of-words format = list of (token_id, token_count) 2-tuples. Each word is assumed to be a tokenized and normalized string (either unicode or utf8-encoded). No further preprocessing is done on the words in document; apply tokenization, stemming etc. before calling this method."
   ]
  },
  {
   "cell_type": "code",
   "execution_count": 27,
   "metadata": {},
   "outputs": [],
   "source": [
    "'''\n",
    "Create the Bag-of-words model for each document i.e for each document we create a dictionary reporting how many\n",
    "words and how many times those words appear. Save this to 'bow_corpus'\n",
    "'''\n",
    "bow_corpus = [dictionary.doc2bow(doc) for doc in processed_docs]"
   ]
  },
  {
   "cell_type": "code",
   "execution_count": 28,
   "metadata": {},
   "outputs": [
    {
     "data": {
      "text/plain": [
       "[(71, 1), (107, 1), (462, 1), (3530, 1)]"
      ]
     },
     "execution_count": 28,
     "metadata": {},
     "output_type": "execute_result"
    }
   ],
   "source": [
    "'''\n",
    "Checking Bag of Words corpus for our sample document --> (token_id, token_count)\n",
    "'''\n",
    "bow_corpus[document_num]"
   ]
  },
  {
   "cell_type": "code",
   "execution_count": 29,
   "metadata": {},
   "outputs": [
    {
     "name": "stdout",
     "output_type": "stream",
     "text": [
      "Word 71 (\"bushfir\") appears 1 time.\n",
      "Word 107 (\"help\") appears 1 time.\n",
      "Word 462 (\"rain\") appears 1 time.\n",
      "Word 3530 (\"dampen\") appears 1 time.\n"
     ]
    }
   ],
   "source": [
    "'''\n",
    "Preview BOW for our sample preprocessed document\n",
    "'''\n",
    "\n",
    "# Here document_num is document number 4310 which we have checked in Step 2\n",
    "bow_doc_4310 = bow_corpus[document_num]\n",
    "\n",
    "for i in range(len(bow_doc_4310)):\n",
    "    print(\"Word {} (\\\"{}\\\") appears {} time.\".format(bow_doc_4310[i][0], \n",
    "                                                     dictionary[bow_doc_4310[i][0]], \n",
    "                                                     bow_doc_4310[i][1]))"
   ]
  },
  {
   "cell_type": "markdown",
   "metadata": {},
   "source": [
    "## Step 3.2: TF-IDF on our document set\n"
   ]
  },
  {
   "cell_type": "markdown",
   "metadata": {},
   "source": [
    "While performing TF-IDF on the corpus is not necessary for LDA implemention using the gensim model, it is recemmended. TF-IDF expects a bag-of-words (integer values) training corpus during initialization. During transformation, it will take a vector and return another vector of the same dimensionality.\n",
    "\n",
    "Please note: The author of Gensim dictates the standard procedure for LDA to be using the Bag of Words model."
   ]
  },
  {
   "cell_type": "markdown",
   "metadata": {},
   "source": [
    "### TF-IDF stands for \"Term Frequency, Inverse Document Frequency\".\n",
    "\n",
    "* It is a way to score the importance of words (or \"terms\") in a document based on how frequently they appear across multiple documents.\n",
    "* If a word appears frequently in a document, it's important. Give the word a high score. But if a word appears in many documents, it's not a unique identifier. Give the word a low score.\n",
    "* Therefore, common words like \"the\" and \"for\", which appear in many documents, will be scaled down. Words that appear frequently in a single document will be scaled up."
   ]
  },
  {
   "cell_type": "markdown",
   "metadata": {},
   "source": [
    "In other words:\n",
    "\n",
    "* TF(w) = (Number of times term w appears in a document) / (Total number of terms in the document).\n",
    "* IDF(w) = log_e(Total number of documents / Number of documents with term w in it).\n"
   ]
  },
  {
   "cell_type": "markdown",
   "metadata": {},
   "source": [
    "### For example\n",
    "\n",
    "* Consider a document containing 100 words wherein the word 'tiger' appears 3 times.\n",
    "* The term frequency (i.e., tf) for 'tiger' is then:\n",
    "\n",
    "    * TF = (3 / 100) = 0.03.\n",
    "* Now, assume we have 10 million documents and the word 'tiger' appears in 1000 of these.Then, the inverse document frequency (i.e., idf) is calculated as:\n",
    "\n",
    "    * IDF = log(10,000,000 / 1,000) = 4.\n",
    "* Thus, the Tf-idf weight is the product of these quantities:\n",
    "\n",
    "    * TF-IDF = 0.03 * 4 = 0.12."
   ]
  },
  {
   "cell_type": "code",
   "execution_count": 30,
   "metadata": {},
   "outputs": [],
   "source": [
    "'''\n",
    "Create tf-idf model object using models.TfidfModel on 'bow_corpus' and save it to 'tfidf'\n",
    "'''\n",
    "\n",
    "\n",
    "from gensim import corpora, models\n",
    "\n",
    "tfidf = models.TfidfModel(bow_corpus)"
   ]
  },
  {
   "cell_type": "code",
   "execution_count": 31,
   "metadata": {},
   "outputs": [],
   "source": [
    "'''\n",
    "Apply transformation to the entire corpus and call it 'corpus_tfidf'\n",
    "'''\n",
    "\n",
    "corpus_tfidf = tfidf[bow_corpus]"
   ]
  },
  {
   "cell_type": "code",
   "execution_count": 32,
   "metadata": {},
   "outputs": [
    {
     "name": "stdout",
     "output_type": "stream",
     "text": [
      "[(0, 0.5959813347777092),\n",
      " (1, 0.39204529549491984),\n",
      " (2, 0.48531419274988147),\n",
      " (3, 0.5055461098578569)]\n"
     ]
    }
   ],
   "source": [
    "'''\n",
    "Preview TF-IDF scores for our first document --> --> (token_id, tfidf score)\n",
    "'''\n",
    "\n",
    "from pprint import pprint\n",
    "\n",
    "for doc in corpus_tfidf:\n",
    "    pprint(doc)\n",
    "    break"
   ]
  },
  {
   "cell_type": "markdown",
   "metadata": {},
   "source": [
    "# LDA on Bag of Words and Tfidf"
   ]
  },
  {
   "cell_type": "markdown",
   "metadata": {},
   "source": [
    "We are going for 10 topics in the document corpus.\n",
    "\n",
    "We will be running LDA using all CPU cores to parallelize and speed up model training.\n",
    "\n",
    "Some of the parameters we will be tweaking are:\n",
    "\n",
    "* num_topics is the number of requested latent topics to be extracted from the training corpus.\n",
    "* id2word is a mapping from word ids (integers) to words (strings). It is used to determine the vocabulary size, as well as for debugging and topic printing.\n",
    "* workers is the number of extra processes to use for parallelization. Uses all available cores by default.\n",
    "* alpha and eta are hyperparameters that affect sparsity of the document-topic (theta) and topic-word (lambda) distributions. We will let these be the default values for now(default value is 1/num_topics)\n",
    "\n",
    "    * Alpha is the per document topic distribution.\n",
    "\n",
    "        * High alpha: Every document has a mixture of all topics(documents appear similar to each other).\n",
    "        * Low alpha: Every document has a mixture of very few topics\n",
    "    * Eta is the per topic word distribution.\n",
    "\n",
    "        * High eta: Each topic has a mixture of most words(topics appear similar to each other).\n",
    "        * Low eta: Each topic has a mixture of few words.\n",
    "* passes is the number of training passes through the corpus. For example, if the training corpus has 50,000 documents, chunksize is 10,000, passes is 2, then online training is done in 10 updates:\n",
    "\n",
    "    * #1 documents 0-9,999\n",
    "    * #2 documents 10,000-19,999\n",
    "    * #3 documents 20,000-29,999\n",
    "    * #4 documents 30,000-39,999\n",
    "    * #5 documents 40,000-49,999\n",
    "    * #6 documents 0-9,999\n",
    "    * #7 documents 10,000-19,999\n",
    "    * #8 documents 20,000-29,999\n",
    "    * #9 documents 30,000-39,999\n",
    "    * #10 documents 40,000-49,999"
   ]
  },
  {
   "cell_type": "markdown",
   "metadata": {},
   "source": [
    "## Step 4.1: Running LDA using Bag of Words¶"
   ]
  },
  {
   "cell_type": "code",
   "execution_count": 34,
   "metadata": {},
   "outputs": [],
   "source": [
    "'''\n",
    "Train your lda model using gensim.models.LdaMulticore and save it to 'lda_model'\n",
    "'''\n",
    "\n",
    "lda_model = gensim.models.LdaMulticore(\n",
    "                                        bow_corpus,\n",
    "                                        num_topics = 10,\n",
    "                                        id2word = dictionary,\n",
    "                                        passes = 2,\n",
    "                                        workers = 2\n",
    "                                        )"
   ]
  },
  {
   "cell_type": "code",
   "execution_count": 35,
   "metadata": {},
   "outputs": [
    {
     "name": "stdout",
     "output_type": "stream",
     "text": [
      "Topic: 0 \n",
      "Words: 0.020*\"offer\" + 0.019*\"coast\" + 0.014*\"gold\" + 0.013*\"plan\" + 0.013*\"local\" + 0.012*\"victori\" + 0.012*\"clear\" + 0.012*\"year\" + 0.010*\"black\" + 0.009*\"power\"\n",
      "\n",
      "\n",
      "Topic: 1 \n",
      "Words: 0.021*\"closer\" + 0.015*\"protest\" + 0.015*\"centr\" + 0.015*\"howard\" + 0.013*\"busi\" + 0.012*\"plan\" + 0.012*\"sale\" + 0.011*\"famili\" + 0.010*\"bush\" + 0.009*\"damag\"\n",
      "\n",
      "\n",
      "Topic: 2 \n",
      "Words: 0.049*\"water\" + 0.023*\"boost\" + 0.022*\"miss\" + 0.020*\"rise\" + 0.014*\"plan\" + 0.013*\"fear\" + 0.013*\"communiti\" + 0.012*\"servic\" + 0.012*\"push\" + 0.012*\"price\"\n",
      "\n",
      "\n",
      "Topic: 3 \n",
      "Words: 0.025*\"nation\" + 0.019*\"record\" + 0.016*\"farmer\" + 0.016*\"market\" + 0.015*\"drought\" + 0.014*\"final\" + 0.014*\"time\" + 0.013*\"storm\" + 0.012*\"action\" + 0.011*\"compani\"\n",
      "\n",
      "\n",
      "Topic: 4 \n",
      "Words: 0.034*\"court\" + 0.032*\"face\" + 0.023*\"charg\" + 0.016*\"murder\" + 0.016*\"case\" + 0.015*\"jail\" + 0.015*\"accus\" + 0.013*\"nuclear\" + 0.013*\"trial\" + 0.012*\"chief\"\n",
      "\n",
      "\n",
      "Topic: 5 \n",
      "Words: 0.041*\"kill\" + 0.024*\"crash\" + 0.018*\"iraq\" + 0.018*\"die\" + 0.014*\"welcom\" + 0.014*\"return\" + 0.014*\"dead\" + 0.013*\"train\" + 0.013*\"troop\" + 0.013*\"attack\"\n",
      "\n",
      "\n",
      "Topic: 6 \n",
      "Words: 0.051*\"council\" + 0.027*\"plan\" + 0.016*\"elect\" + 0.012*\"land\" + 0.011*\"develop\" + 0.010*\"safeti\" + 0.010*\"west\" + 0.010*\"mayor\" + 0.009*\"fall\" + 0.009*\"health\"\n",
      "\n",
      "\n",
      "Topic: 7 \n",
      "Words: 0.021*\"test\" + 0.020*\"open\" + 0.020*\"lead\" + 0.018*\"world\" + 0.017*\"win\" + 0.016*\"take\" + 0.015*\"hold\" + 0.015*\"england\" + 0.012*\"aussi\" + 0.011*\"australia\"\n",
      "\n",
      "\n",
      "Topic: 8 \n",
      "Words: 0.064*\"govt\" + 0.032*\"urg\" + 0.019*\"claim\" + 0.019*\"help\" + 0.017*\"say\" + 0.016*\"hous\" + 0.015*\"reject\" + 0.015*\"opposit\" + 0.014*\"worker\" + 0.013*\"fund\"\n",
      "\n",
      "\n",
      "Topic: 9 \n",
      "Words: 0.093*\"polic\" + 0.029*\"death\" + 0.025*\"investig\" + 0.020*\"drug\" + 0.016*\"charg\" + 0.016*\"secur\" + 0.016*\"driver\" + 0.016*\"probe\" + 0.015*\"arrest\" + 0.014*\"crash\"\n",
      "\n",
      "\n"
     ]
    }
   ],
   "source": [
    "'''\n",
    "For each topic, we will explore the words occuring in that topic and its relative weight\n",
    "'''\n",
    "for idx, topic in lda_model.print_topics(-1):\n",
    "    print(\"Topic: {} \\nWords: {}\".format(idx,topic))\n",
    "    print(\"\\n\")"
   ]
  },
  {
   "cell_type": "markdown",
   "metadata": {},
   "source": [
    "## Step 4.2 Running LDA using TF-IDF"
   ]
  },
  {
   "cell_type": "code",
   "execution_count": 37,
   "metadata": {},
   "outputs": [],
   "source": [
    "'''\n",
    "Define lda model using corpus_tfidf\n",
    "'''\n",
    "\n",
    "lda_model_tfidf = gensim.models.LdaMulticore(corpus_tfidf, \n",
    "                                             num_topics=10, \n",
    "                                             id2word = dictionary, \n",
    "                                             passes = 2, \n",
    "                                             workers=4)"
   ]
  },
  {
   "cell_type": "code",
   "execution_count": 38,
   "metadata": {},
   "outputs": [
    {
     "name": "stdout",
     "output_type": "stream",
     "text": [
      "Topic: 0 Word: 0.009*\"timor\" + 0.007*\"market\" + 0.006*\"price\" + 0.006*\"govt\" + 0.006*\"deal\" + 0.006*\"hick\" + 0.005*\"trade\" + 0.005*\"week\" + 0.005*\"revamp\" + 0.005*\"petrol\"\n",
      "\n",
      "\n",
      "Topic: 1 Word: 0.029*\"closer\" + 0.008*\"safeti\" + 0.008*\"gold\" + 0.007*\"concern\" + 0.007*\"drink\" + 0.007*\"plan\" + 0.007*\"coast\" + 0.006*\"council\" + 0.006*\"worri\" + 0.005*\"govt\"\n",
      "\n",
      "\n",
      "Topic: 2 Word: 0.014*\"water\" + 0.012*\"govt\" + 0.010*\"drought\" + 0.008*\"fund\" + 0.007*\"urg\" + 0.007*\"rain\" + 0.007*\"council\" + 0.007*\"plan\" + 0.007*\"farmer\" + 0.006*\"health\"\n",
      "\n",
      "\n",
      "Topic: 3 Word: 0.007*\"burn\" + 0.006*\"teacher\" + 0.006*\"centr\" + 0.005*\"govt\" + 0.005*\"govern\" + 0.005*\"lawyer\" + 0.005*\"anti\" + 0.005*\"lebanon\" + 0.005*\"recycl\" + 0.004*\"say\"\n",
      "\n",
      "\n",
      "Topic: 4 Word: 0.007*\"rudd\" + 0.007*\"cancer\" + 0.007*\"govt\" + 0.006*\"doubt\" + 0.006*\"rise\" + 0.006*\"whale\" + 0.006*\"bail\" + 0.005*\"patient\" + 0.005*\"export\" + 0.005*\"violenc\"\n",
      "\n",
      "\n",
      "Topic: 5 Word: 0.020*\"polic\" + 0.020*\"crash\" + 0.012*\"investig\" + 0.012*\"die\" + 0.010*\"charg\" + 0.010*\"teen\" + 0.009*\"fatal\" + 0.009*\"accid\" + 0.009*\"woman\" + 0.008*\"shoot\"\n",
      "\n",
      "\n",
      "Topic: 6 Word: 0.017*\"kill\" + 0.012*\"iraq\" + 0.011*\"bomb\" + 0.009*\"troop\" + 0.007*\"attack\" + 0.007*\"nuclear\" + 0.006*\"soldier\" + 0.006*\"blast\" + 0.006*\"iran\" + 0.006*\"baghdad\"\n",
      "\n",
      "\n",
      "Topic: 7 Word: 0.009*\"firefight\" + 0.007*\"blaze\" + 0.007*\"elect\" + 0.005*\"uranium\" + 0.005*\"liber\" + 0.005*\"lead\" + 0.005*\"south\" + 0.005*\"tiger\" + 0.005*\"bird\" + 0.005*\"east\"\n",
      "\n",
      "\n",
      "Topic: 8 Word: 0.008*\"death\" + 0.008*\"polic\" + 0.008*\"bodi\" + 0.007*\"fire\" + 0.006*\"solomon\" + 0.006*\"toll\" + 0.005*\"quit\" + 0.005*\"murder\" + 0.005*\"inquest\" + 0.004*\"court\"\n",
      "\n",
      "\n",
      "Topic: 9 Word: 0.015*\"search\" + 0.015*\"miss\" + 0.009*\"guilti\" + 0.008*\"wind\" + 0.007*\"farm\" + 0.007*\"plead\" + 0.007*\"climat\" + 0.006*\"wast\" + 0.006*\"dump\" + 0.005*\"titl\"\n",
      "\n",
      "\n"
     ]
    }
   ],
   "source": [
    "'''\n",
    "For each topic, we will explore the words occuring in that topic and its relative weight\n",
    "'''\n",
    "for idx, topic in lda_model_tfidf.print_topics(-1):\n",
    "    print(\"Topic: {} Word: {}\".format(idx, topic))\n",
    "    print(\"\\n\")"
   ]
  },
  {
   "cell_type": "markdown",
   "metadata": {},
   "source": [
    "##  Step 5.1: Performance evaluation by classifying sample document using LDA Bag of Words model"
   ]
  },
  {
   "cell_type": "code",
   "execution_count": 39,
   "metadata": {},
   "outputs": [
    {
     "name": "stdout",
     "output_type": "stream",
     "text": [
      "\n",
      "Score: 0.3949936032295227\t \n",
      "Topic: 0.051*\"council\" + 0.027*\"plan\" + 0.016*\"elect\" + 0.012*\"land\" + 0.011*\"develop\" + 0.010*\"safeti\" + 0.010*\"west\" + 0.010*\"mayor\" + 0.009*\"fall\" + 0.009*\"health\"\n",
      "\n",
      "Score: 0.24483314156532288\t \n",
      "Topic: 0.064*\"govt\" + 0.032*\"urg\" + 0.019*\"claim\" + 0.019*\"help\" + 0.017*\"say\" + 0.016*\"hous\" + 0.015*\"reject\" + 0.015*\"opposit\" + 0.014*\"worker\" + 0.013*\"fund\"\n",
      "\n",
      "Score: 0.2201269418001175\t \n",
      "Topic: 0.049*\"water\" + 0.023*\"boost\" + 0.022*\"miss\" + 0.020*\"rise\" + 0.014*\"plan\" + 0.013*\"fear\" + 0.013*\"communiti\" + 0.012*\"servic\" + 0.012*\"push\" + 0.012*\"price\"\n",
      "\n",
      "Score: 0.02001717872917652\t \n",
      "Topic: 0.021*\"closer\" + 0.015*\"protest\" + 0.015*\"centr\" + 0.015*\"howard\" + 0.013*\"busi\" + 0.012*\"plan\" + 0.012*\"sale\" + 0.011*\"famili\" + 0.010*\"bush\" + 0.009*\"damag\"\n",
      "\n",
      "Score: 0.020008007064461708\t \n",
      "Topic: 0.025*\"nation\" + 0.019*\"record\" + 0.016*\"farmer\" + 0.016*\"market\" + 0.015*\"drought\" + 0.014*\"final\" + 0.014*\"time\" + 0.013*\"storm\" + 0.012*\"action\" + 0.011*\"compani\"\n",
      "\n",
      "Score: 0.020004278048872948\t \n",
      "Topic: 0.093*\"polic\" + 0.029*\"death\" + 0.025*\"investig\" + 0.020*\"drug\" + 0.016*\"charg\" + 0.016*\"secur\" + 0.016*\"driver\" + 0.016*\"probe\" + 0.015*\"arrest\" + 0.014*\"crash\"\n",
      "\n",
      "Score: 0.020004214718937874\t \n",
      "Topic: 0.020*\"offer\" + 0.019*\"coast\" + 0.014*\"gold\" + 0.013*\"plan\" + 0.013*\"local\" + 0.012*\"victori\" + 0.012*\"clear\" + 0.012*\"year\" + 0.010*\"black\" + 0.009*\"power\"\n",
      "\n",
      "Score: 0.020004214718937874\t \n",
      "Topic: 0.034*\"court\" + 0.032*\"face\" + 0.023*\"charg\" + 0.016*\"murder\" + 0.016*\"case\" + 0.015*\"jail\" + 0.015*\"accus\" + 0.013*\"nuclear\" + 0.013*\"trial\" + 0.012*\"chief\"\n",
      "\n",
      "Score: 0.020004214718937874\t \n",
      "Topic: 0.041*\"kill\" + 0.024*\"crash\" + 0.018*\"iraq\" + 0.018*\"die\" + 0.014*\"welcom\" + 0.014*\"return\" + 0.014*\"dead\" + 0.013*\"train\" + 0.013*\"troop\" + 0.013*\"attack\"\n",
      "\n",
      "Score: 0.020004214718937874\t \n",
      "Topic: 0.021*\"test\" + 0.020*\"open\" + 0.020*\"lead\" + 0.018*\"world\" + 0.017*\"win\" + 0.016*\"take\" + 0.015*\"hold\" + 0.015*\"england\" + 0.012*\"aussi\" + 0.011*\"australia\"\n"
     ]
    }
   ],
   "source": [
    "'''\n",
    "Text of sample document 4310\n",
    "'''\n",
    "\n",
    "processed_docs[4310]\n",
    "\n",
    "'''\n",
    "Check which topic our test document belongs to using the LDA Bag of Words model.\n",
    "'''\n",
    "# Our test document is document number 4310\n",
    "for index, score in sorted(lda_model[bow_corpus[document_num]], key=lambda tup: -1*tup[1]):\n",
    "    print(\"\\nScore: {}\\t \\nTopic: {}\".format(score, lda_model.print_topic(index, 10)))"
   ]
  },
  {
   "cell_type": "markdown",
   "metadata": {},
   "source": [
    "## Step 5.2: Performance evaluation by classifying sample document using LDA TF-IDF model"
   ]
  },
  {
   "cell_type": "code",
   "execution_count": 40,
   "metadata": {},
   "outputs": [
    {
     "name": "stdout",
     "output_type": "stream",
     "text": [
      "\n",
      "Score: 0.5552555918693542\t \n",
      "Topic: 0.014*\"water\" + 0.012*\"govt\" + 0.010*\"drought\" + 0.008*\"fund\" + 0.007*\"urg\" + 0.007*\"rain\" + 0.007*\"council\" + 0.007*\"plan\" + 0.007*\"farmer\" + 0.006*\"health\"\n",
      "\n",
      "Score: 0.28469714522361755\t \n",
      "Topic: 0.008*\"death\" + 0.008*\"polic\" + 0.008*\"bodi\" + 0.007*\"fire\" + 0.006*\"solomon\" + 0.006*\"toll\" + 0.005*\"quit\" + 0.005*\"murder\" + 0.005*\"inquest\" + 0.004*\"court\"\n",
      "\n",
      "Score: 0.020006943494081497\t \n",
      "Topic: 0.009*\"firefight\" + 0.007*\"blaze\" + 0.007*\"elect\" + 0.005*\"uranium\" + 0.005*\"liber\" + 0.005*\"lead\" + 0.005*\"south\" + 0.005*\"tiger\" + 0.005*\"bird\" + 0.005*\"east\"\n",
      "\n",
      "Score: 0.020006675273180008\t \n",
      "Topic: 0.007*\"rudd\" + 0.007*\"cancer\" + 0.007*\"govt\" + 0.006*\"doubt\" + 0.006*\"rise\" + 0.006*\"whale\" + 0.006*\"bail\" + 0.005*\"patient\" + 0.005*\"export\" + 0.005*\"violenc\"\n",
      "\n",
      "Score: 0.020006097853183746\t \n",
      "Topic: 0.029*\"closer\" + 0.008*\"safeti\" + 0.008*\"gold\" + 0.007*\"concern\" + 0.007*\"drink\" + 0.007*\"plan\" + 0.007*\"coast\" + 0.006*\"council\" + 0.006*\"worri\" + 0.005*\"govt\"\n",
      "\n",
      "Score: 0.020005663856863976\t \n",
      "Topic: 0.009*\"timor\" + 0.007*\"market\" + 0.006*\"price\" + 0.006*\"govt\" + 0.006*\"deal\" + 0.006*\"hick\" + 0.005*\"trade\" + 0.005*\"week\" + 0.005*\"revamp\" + 0.005*\"petrol\"\n",
      "\n",
      "Score: 0.0200056005269289\t \n",
      "Topic: 0.020*\"polic\" + 0.020*\"crash\" + 0.012*\"investig\" + 0.012*\"die\" + 0.010*\"charg\" + 0.010*\"teen\" + 0.009*\"fatal\" + 0.009*\"accid\" + 0.009*\"woman\" + 0.008*\"shoot\"\n",
      "\n",
      "Score: 0.02000555396080017\t \n",
      "Topic: 0.007*\"burn\" + 0.006*\"teacher\" + 0.006*\"centr\" + 0.005*\"govt\" + 0.005*\"govern\" + 0.005*\"lawyer\" + 0.005*\"anti\" + 0.005*\"lebanon\" + 0.005*\"recycl\" + 0.004*\"say\"\n",
      "\n",
      "Score: 0.020005429163575172\t \n",
      "Topic: 0.015*\"search\" + 0.015*\"miss\" + 0.009*\"guilti\" + 0.008*\"wind\" + 0.007*\"farm\" + 0.007*\"plead\" + 0.007*\"climat\" + 0.006*\"wast\" + 0.006*\"dump\" + 0.005*\"titl\"\n",
      "\n",
      "Score: 0.02000526897609234\t \n",
      "Topic: 0.017*\"kill\" + 0.012*\"iraq\" + 0.011*\"bomb\" + 0.009*\"troop\" + 0.007*\"attack\" + 0.007*\"nuclear\" + 0.006*\"soldier\" + 0.006*\"blast\" + 0.006*\"iran\" + 0.006*\"baghdad\"\n"
     ]
    }
   ],
   "source": [
    "'''\n",
    "Check which topic our test document belongs to using the LDA TF-IDF model.\n",
    "'''\n",
    "\n",
    "for index, score in sorted(lda_model_tfidf[bow_corpus[document_num]], key=lambda tup: -1*tup[1]):\n",
    "    print(\"\\nScore: {}\\t \\nTopic: {}\".format(score, lda_model_tfidf.print_topic(index, 10)))"
   ]
  },
  {
   "cell_type": "markdown",
   "metadata": {},
   "source": [
    "# Step 6: Testing model on unseen document¶"
   ]
  },
  {
   "cell_type": "code",
   "execution_count": 41,
   "metadata": {},
   "outputs": [
    {
     "name": "stdout",
     "output_type": "stream",
     "text": [
      "Score: 0.6200627684593201\t Topic: 0.025*\"nation\" + 0.019*\"record\" + 0.016*\"farmer\" + 0.016*\"market\" + 0.015*\"drought\"\n",
      "Score: 0.21990956366062164\t Topic: 0.021*\"closer\" + 0.015*\"protest\" + 0.015*\"centr\" + 0.015*\"howard\" + 0.013*\"busi\"\n",
      "Score: 0.020004117861390114\t Topic: 0.021*\"test\" + 0.020*\"open\" + 0.020*\"lead\" + 0.018*\"world\" + 0.017*\"win\"\n",
      "Score: 0.020003437995910645\t Topic: 0.051*\"council\" + 0.027*\"plan\" + 0.016*\"elect\" + 0.012*\"land\" + 0.011*\"develop\"\n",
      "Score: 0.02000335603952408\t Topic: 0.020*\"offer\" + 0.019*\"coast\" + 0.014*\"gold\" + 0.013*\"plan\" + 0.013*\"local\"\n",
      "Score: 0.02000335603952408\t Topic: 0.034*\"court\" + 0.032*\"face\" + 0.023*\"charg\" + 0.016*\"murder\" + 0.016*\"case\"\n",
      "Score: 0.02000335417687893\t Topic: 0.049*\"water\" + 0.023*\"boost\" + 0.022*\"miss\" + 0.020*\"rise\" + 0.014*\"plan\"\n",
      "Score: 0.02000335417687893\t Topic: 0.041*\"kill\" + 0.024*\"crash\" + 0.018*\"iraq\" + 0.018*\"die\" + 0.014*\"welcom\"\n",
      "Score: 0.02000335417687893\t Topic: 0.064*\"govt\" + 0.032*\"urg\" + 0.019*\"claim\" + 0.019*\"help\" + 0.017*\"say\"\n",
      "Score: 0.02000335417687893\t Topic: 0.093*\"polic\" + 0.029*\"death\" + 0.025*\"investig\" + 0.020*\"drug\" + 0.016*\"charg\"\n"
     ]
    }
   ],
   "source": [
    "unseen_document = \"My favorite sports activities are running and swimming.\"\n",
    "\n",
    "# Data preprocessing step for the unseen document\n",
    "bow_vector = dictionary.doc2bow(preprocess(unseen_document))\n",
    "\n",
    "for index, score in sorted(lda_model[bow_vector], key=lambda tup: -1*tup[1]):\n",
    "    print(\"Score: {}\\t Topic: {}\".format(score, lda_model.print_topic(index, 5)))"
   ]
  }
 ],
 "metadata": {
  "kernelspec": {
   "display_name": "Python 3",
   "language": "python",
   "name": "python3"
  },
  "language_info": {
   "codemirror_mode": {
    "name": "ipython",
    "version": 3
   },
   "file_extension": ".py",
   "mimetype": "text/x-python",
   "name": "python",
   "nbconvert_exporter": "python",
   "pygments_lexer": "ipython3",
   "version": "3.5.6"
  }
 },
 "nbformat": 4,
 "nbformat_minor": 4
}
